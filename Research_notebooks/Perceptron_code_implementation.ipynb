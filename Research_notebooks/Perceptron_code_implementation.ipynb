{
 "cells": [
  {
   "cell_type": "code",
   "execution_count": 1,
   "id": "106df51b",
   "metadata": {},
   "outputs": [],
   "source": [
    "import pandas as pd\n",
    "import numpy as np\n",
    "import matplotlib.pyplot as plt\n",
    "import seaborn as sns\n",
    "import os\n",
    "import joblib\n",
    "from matplotlib.colors import ListedColormap\n",
    "plt.style.use(\"fivethirtyeight\")"
   ]
  },
  {
   "cell_type": "markdown",
   "id": "b6ca8678",
   "metadata": {},
   "source": [
    "## Perceptron is only applicable only on linear separable datasets"
   ]
  },
  {
   "cell_type": "code",
   "execution_count": 59,
   "id": "8bf6a4f4",
   "metadata": {},
   "outputs": [],
   "source": [
    "class Perceptron:\n",
    "    def __init__(self,eta: float=None, epochs: int=None):  #eta ---> Learning rate\n",
    "        self.weights = np.random.randn(3) * 1e-4  #small random weights, Why 3 becuase we have two columns x1,x2 and bias\n",
    "        training = (eta is not None) and (epochs is not None)\n",
    "        if training:\n",
    "            print(f\"initail weights before training: \\n {self.weights}\")\n",
    "        self.eta = eta\n",
    "        self.epochs = epochs\n",
    "    \n",
    "    def _z_outcome(self, x_with_bias, weights):\n",
    "        return np.dot(x_with_bias, weights)\n",
    "    \n",
    "    def activationfunction(self,z):\n",
    "        return np.where(z > 0, 1, 0) # if z greter then zero return 1 else 0\n",
    "    \n",
    "    def fit(self,X,y):\n",
    "        self.X = X\n",
    "        self.y = y\n",
    "        x_with_bias = np.c_[self.X, -np.ones((len(self.X),1))]\n",
    "        print(f\"X with bias: \\n {x_with_bias}\")\n",
    "        \n",
    "        for epoch in range(self.epochs):\n",
    "            print(f\"for epoch >> {epoch}\")\n",
    "            \n",
    "            z = self._z_outcome(x_with_bias,self.weights)\n",
    "            y_hat = self.activationfunction(z)\n",
    "            print(f\"predicted value after farward pass {y_hat}\")\n",
    "            \n",
    "            self.error = y - y_hat\n",
    "            print(f\"Error: \\n {self.error}\")\n",
    "            \n",
    "            #Updates The weight\n",
    "            self.weights = self.weights + self.eta * np.dot(x_with_bias.T,self.error)\n",
    "            print(f\"Updated weights after epoch: {epoch + 1}/{self.epochs}:\\n{self.weights}\")\n",
    "            print(\"##\"*10)\n",
    "            \n",
    "            \n",
    "    \n",
    "    def predict(self,X): # Here X is a test input\n",
    "        x_with_bias = np.c_[X, -np.ones((len(X),1))]\n",
    "        z = self._z_outcome(x_with_bias,self.weights)\n",
    "        return self.activationfunction(z)\n",
    "    \n",
    "    def total_loss(self):\n",
    "        total_loss = np.sum(self.error)\n",
    "        print(f\"Total loss: {total_loss}\")\n",
    "        return total_loss\n",
    "    \n",
    "    def _create_dir_return_path(self,model_dir,filename):\n",
    "        os.mkdir(model_dir)\n",
    "        return os.path.join(model_dir,filename)\n",
    "    \n",
    "    \n",
    "    def save(self,filename,model_dir=None):\n",
    "        if model_dir is not None:\n",
    "            model_file_path = self._create_dir_return_path(model_dir,filename)\n",
    "            joblib.dump(self,model_file_path)\n",
    "        else:\n",
    "            model_file_path = self._create_dir_return_path(\"model\",filename)\n",
    "            joblib.dump(self,model_file_path)\n",
    "    \n",
    "    def load(self,filepath):\n",
    "        return joblib.load(filepath)\n",
    "    \n",
    "        "
   ]
  },
  {
   "cell_type": "code",
   "execution_count": 60,
   "id": "4a090fa1",
   "metadata": {},
   "outputs": [],
   "source": [
    "def prepare_data(df,target_col=\"y\"):\n",
    "    X = df.drop(target_col,axis=1)\n",
    "    y = df[target_col]\n",
    "    return X,y"
   ]
  },
  {
   "cell_type": "markdown",
   "id": "08e2f6ad",
   "metadata": {},
   "source": [
    "# Model for AND Gate"
   ]
  },
  {
   "cell_type": "code",
   "execution_count": 48,
   "id": "1db25455",
   "metadata": {
    "scrolled": true
   },
   "outputs": [
    {
     "data": {
      "text/html": [
       "<div>\n",
       "<style scoped>\n",
       "    .dataframe tbody tr th:only-of-type {\n",
       "        vertical-align: middle;\n",
       "    }\n",
       "\n",
       "    .dataframe tbody tr th {\n",
       "        vertical-align: top;\n",
       "    }\n",
       "\n",
       "    .dataframe thead th {\n",
       "        text-align: right;\n",
       "    }\n",
       "</style>\n",
       "<table border=\"1\" class=\"dataframe\">\n",
       "  <thead>\n",
       "    <tr style=\"text-align: right;\">\n",
       "      <th></th>\n",
       "      <th>x1</th>\n",
       "      <th>x2</th>\n",
       "      <th>y</th>\n",
       "    </tr>\n",
       "  </thead>\n",
       "  <tbody>\n",
       "    <tr>\n",
       "      <th>0</th>\n",
       "      <td>0</td>\n",
       "      <td>0</td>\n",
       "      <td>0</td>\n",
       "    </tr>\n",
       "    <tr>\n",
       "      <th>1</th>\n",
       "      <td>0</td>\n",
       "      <td>1</td>\n",
       "      <td>0</td>\n",
       "    </tr>\n",
       "    <tr>\n",
       "      <th>2</th>\n",
       "      <td>1</td>\n",
       "      <td>0</td>\n",
       "      <td>0</td>\n",
       "    </tr>\n",
       "    <tr>\n",
       "      <th>3</th>\n",
       "      <td>1</td>\n",
       "      <td>1</td>\n",
       "      <td>1</td>\n",
       "    </tr>\n",
       "  </tbody>\n",
       "</table>\n",
       "</div>"
      ],
      "text/plain": [
       "   x1  x2  y\n",
       "0   0   0  0\n",
       "1   0   1  0\n",
       "2   1   0  0\n",
       "3   1   1  1"
      ]
     },
     "execution_count": 48,
     "metadata": {},
     "output_type": "execute_result"
    }
   ],
   "source": [
    "AND = {\n",
    "    \"x1\":[0,0,1,1],\n",
    "    \"x2\":[0,1,0,1],\n",
    "   \"y\":[0,0,0,1]\n",
    "}\n",
    "df_AND = pd.DataFrame(AND)\n",
    "df_AND"
   ]
  },
  {
   "cell_type": "markdown",
   "id": "ddb082df",
   "metadata": {},
   "source": [
    "# Model for OR Gate"
   ]
  },
  {
   "cell_type": "code",
   "execution_count": 32,
   "id": "8af886e7",
   "metadata": {},
   "outputs": [
    {
     "data": {
      "text/html": [
       "<div>\n",
       "<style scoped>\n",
       "    .dataframe tbody tr th:only-of-type {\n",
       "        vertical-align: middle;\n",
       "    }\n",
       "\n",
       "    .dataframe tbody tr th {\n",
       "        vertical-align: top;\n",
       "    }\n",
       "\n",
       "    .dataframe thead th {\n",
       "        text-align: right;\n",
       "    }\n",
       "</style>\n",
       "<table border=\"1\" class=\"dataframe\">\n",
       "  <thead>\n",
       "    <tr style=\"text-align: right;\">\n",
       "      <th></th>\n",
       "      <th>x1</th>\n",
       "      <th>x2</th>\n",
       "      <th>y</th>\n",
       "    </tr>\n",
       "  </thead>\n",
       "  <tbody>\n",
       "    <tr>\n",
       "      <th>0</th>\n",
       "      <td>0</td>\n",
       "      <td>0</td>\n",
       "      <td>0</td>\n",
       "    </tr>\n",
       "    <tr>\n",
       "      <th>1</th>\n",
       "      <td>0</td>\n",
       "      <td>1</td>\n",
       "      <td>1</td>\n",
       "    </tr>\n",
       "    <tr>\n",
       "      <th>2</th>\n",
       "      <td>1</td>\n",
       "      <td>0</td>\n",
       "      <td>1</td>\n",
       "    </tr>\n",
       "    <tr>\n",
       "      <th>3</th>\n",
       "      <td>1</td>\n",
       "      <td>1</td>\n",
       "      <td>1</td>\n",
       "    </tr>\n",
       "  </tbody>\n",
       "</table>\n",
       "</div>"
      ],
      "text/plain": [
       "   x1  x2  y\n",
       "0   0   0  0\n",
       "1   0   1  1\n",
       "2   1   0  1\n",
       "3   1   1  1"
      ]
     },
     "execution_count": 32,
     "metadata": {},
     "output_type": "execute_result"
    }
   ],
   "source": [
    "OR = {\n",
    "    \"x1\":[0,0,1,1],\n",
    "    \"x2\":[0,1,0,1],\n",
    "   \"y\":  [0,1,1,1]\n",
    "}\n",
    "df_OR = pd.DataFrame(OR)\n",
    "df_OR"
   ]
  },
  {
   "cell_type": "markdown",
   "id": "690e77a3",
   "metadata": {},
   "source": [
    "# For AND Gate"
   ]
  },
  {
   "cell_type": "code",
   "execution_count": 61,
   "id": "69718064",
   "metadata": {
    "scrolled": true
   },
   "outputs": [
    {
     "name": "stdout",
     "output_type": "stream",
     "text": [
      "initail weights before training: \n",
      " [-1.99526384e-04 -6.65116636e-05  1.59036479e-04]\n",
      "X with bias: \n",
      " [[ 0.  0. -1.]\n",
      " [ 0.  1. -1.]\n",
      " [ 1.  0. -1.]\n",
      " [ 1.  1. -1.]]\n",
      "for epoch >> 0\n",
      "predicted value after farward pass [0 0 0 0]\n",
      "Error: \n",
      " 0    0\n",
      "1    0\n",
      "2    0\n",
      "3    1\n",
      "Name: y, dtype: int64\n",
      "Updated weights after epoch: 1/10:\n",
      "[ 0.09980047  0.09993349 -0.09984096]\n",
      "####################\n",
      "for epoch >> 1\n",
      "predicted value after farward pass [1 1 1 1]\n",
      "Error: \n",
      " 0   -1\n",
      "1   -1\n",
      "2   -1\n",
      "3    0\n",
      "Name: y, dtype: int64\n",
      "Updated weights after epoch: 2/10:\n",
      "[-1.99526384e-04 -6.65116636e-05  2.00159036e-01]\n",
      "####################\n",
      "for epoch >> 2\n",
      "predicted value after farward pass [0 0 0 0]\n",
      "Error: \n",
      " 0    0\n",
      "1    0\n",
      "2    0\n",
      "3    1\n",
      "Name: y, dtype: int64\n",
      "Updated weights after epoch: 3/10:\n",
      "[0.09980047 0.09993349 0.10015904]\n",
      "####################\n",
      "for epoch >> 3\n",
      "predicted value after farward pass [0 0 0 1]\n",
      "Error: \n",
      " 0    0\n",
      "1    0\n",
      "2    0\n",
      "3    0\n",
      "Name: y, dtype: int64\n",
      "Updated weights after epoch: 4/10:\n",
      "[0.09980047 0.09993349 0.10015904]\n",
      "####################\n",
      "for epoch >> 4\n",
      "predicted value after farward pass [0 0 0 1]\n",
      "Error: \n",
      " 0    0\n",
      "1    0\n",
      "2    0\n",
      "3    0\n",
      "Name: y, dtype: int64\n",
      "Updated weights after epoch: 5/10:\n",
      "[0.09980047 0.09993349 0.10015904]\n",
      "####################\n",
      "for epoch >> 5\n",
      "predicted value after farward pass [0 0 0 1]\n",
      "Error: \n",
      " 0    0\n",
      "1    0\n",
      "2    0\n",
      "3    0\n",
      "Name: y, dtype: int64\n",
      "Updated weights after epoch: 6/10:\n",
      "[0.09980047 0.09993349 0.10015904]\n",
      "####################\n",
      "for epoch >> 6\n",
      "predicted value after farward pass [0 0 0 1]\n",
      "Error: \n",
      " 0    0\n",
      "1    0\n",
      "2    0\n",
      "3    0\n",
      "Name: y, dtype: int64\n",
      "Updated weights after epoch: 7/10:\n",
      "[0.09980047 0.09993349 0.10015904]\n",
      "####################\n",
      "for epoch >> 7\n",
      "predicted value after farward pass [0 0 0 1]\n",
      "Error: \n",
      " 0    0\n",
      "1    0\n",
      "2    0\n",
      "3    0\n",
      "Name: y, dtype: int64\n",
      "Updated weights after epoch: 8/10:\n",
      "[0.09980047 0.09993349 0.10015904]\n",
      "####################\n",
      "for epoch >> 8\n",
      "predicted value after farward pass [0 0 0 1]\n",
      "Error: \n",
      " 0    0\n",
      "1    0\n",
      "2    0\n",
      "3    0\n",
      "Name: y, dtype: int64\n",
      "Updated weights after epoch: 9/10:\n",
      "[0.09980047 0.09993349 0.10015904]\n",
      "####################\n",
      "for epoch >> 9\n",
      "predicted value after farward pass [0 0 0 1]\n",
      "Error: \n",
      " 0    0\n",
      "1    0\n",
      "2    0\n",
      "3    0\n",
      "Name: y, dtype: int64\n",
      "Updated weights after epoch: 10/10:\n",
      "[0.09980047 0.09993349 0.10015904]\n",
      "####################\n",
      "Total loss: 0\n"
     ]
    }
   ],
   "source": [
    "X,y = prepare_data(df_AND)\n",
    "\n",
    "ETA = 0.1\n",
    "EPOCHS = 10\n",
    "\n",
    "model_AND = Perceptron(eta = ETA, epochs = EPOCHS)\n",
    "model_AND.fit(X,y)\n",
    "_ = model_AND.total_loss()"
   ]
  },
  {
   "cell_type": "markdown",
   "id": "f40c2ee2",
   "metadata": {},
   "source": [
    "# Save Model_AND\n"
   ]
  },
  {
   "cell_type": "code",
   "execution_count": null,
   "id": "1a1ef186",
   "metadata": {},
   "outputs": [],
   "source": [
    "model_AND.save(filename=\"AND.model\")"
   ]
  },
  {
   "cell_type": "markdown",
   "id": "947ff67f",
   "metadata": {},
   "source": [
    "# load The modelAND"
   ]
  },
  {
   "cell_type": "code",
   "execution_count": 63,
   "id": "5e00d5bd",
   "metadata": {},
   "outputs": [],
   "source": [
    "reload_AND = Perceptron().load(filepath=\"model/AND.model\")"
   ]
  },
  {
   "cell_type": "code",
   "execution_count": 54,
   "id": "e53bb8af",
   "metadata": {},
   "outputs": [
    {
     "data": {
      "text/plain": [
       "<__main__.Perceptron at 0x1b927c608e0>"
      ]
     },
     "execution_count": 54,
     "metadata": {},
     "output_type": "execute_result"
    }
   ],
   "source": [
    "reload_AND"
   ]
  },
  {
   "cell_type": "markdown",
   "id": "78644d4b",
   "metadata": {},
   "source": [
    "# Prediction"
   ]
  },
  {
   "cell_type": "code",
   "execution_count": 64,
   "id": "a0bc74db",
   "metadata": {},
   "outputs": [
    {
     "data": {
      "text/plain": [
       "array([0])"
      ]
     },
     "execution_count": 64,
     "metadata": {},
     "output_type": "execute_result"
    }
   ],
   "source": [
    "reload_AND.predict(X = [[1,0]])"
   ]
  },
  {
   "cell_type": "code",
   "execution_count": null,
   "id": "bd2e366f",
   "metadata": {},
   "outputs": [],
   "source": []
  },
  {
   "cell_type": "code",
   "execution_count": null,
   "id": "3afa8807",
   "metadata": {},
   "outputs": [],
   "source": []
  },
  {
   "cell_type": "markdown",
   "id": "ef837beb",
   "metadata": {},
   "source": [
    "# For OR gate"
   ]
  },
  {
   "cell_type": "code",
   "execution_count": 33,
   "id": "7de20ddb",
   "metadata": {},
   "outputs": [
    {
     "name": "stdout",
     "output_type": "stream",
     "text": [
      "initail weights before training: \n",
      " [ 3.36480763e-05  1.13829528e-04 -2.13704482e-05]\n",
      "X with bias: \n",
      " [[ 0.  0. -1.]\n",
      " [ 0.  1. -1.]\n",
      " [ 1.  0. -1.]\n",
      " [ 1.  1. -1.]]\n",
      "for epoch >> 0\n",
      "predicted value after farward pass [1 1 1 1]\n",
      "Error: \n",
      " 0   -1\n",
      "1    0\n",
      "2    0\n",
      "3    0\n",
      "Name: y, dtype: int64\n",
      "Updated weights after epoch: 1/10:\n",
      "[3.36480763e-05 1.13829528e-04 9.99786296e-02]\n",
      "####################\n",
      "for epoch >> 1\n",
      "predicted value after farward pass [0 0 0 0]\n",
      "Error: \n",
      " 0    0\n",
      "1    1\n",
      "2    1\n",
      "3    1\n",
      "Name: y, dtype: int64\n",
      "Updated weights after epoch: 2/10:\n",
      "[ 0.20003365  0.20011383 -0.20002137]\n",
      "####################\n",
      "for epoch >> 2\n",
      "predicted value after farward pass [1 1 1 1]\n",
      "Error: \n",
      " 0   -1\n",
      "1    0\n",
      "2    0\n",
      "3    0\n",
      "Name: y, dtype: int64\n",
      "Updated weights after epoch: 3/10:\n",
      "[ 0.20003365  0.20011383 -0.10002137]\n",
      "####################\n",
      "for epoch >> 3\n",
      "predicted value after farward pass [1 1 1 1]\n",
      "Error: \n",
      " 0   -1\n",
      "1    0\n",
      "2    0\n",
      "3    0\n",
      "Name: y, dtype: int64\n",
      "Updated weights after epoch: 4/10:\n",
      "[ 2.00033648e-01  2.00113830e-01 -2.13704482e-05]\n",
      "####################\n",
      "for epoch >> 4\n",
      "predicted value after farward pass [1 1 1 1]\n",
      "Error: \n",
      " 0   -1\n",
      "1    0\n",
      "2    0\n",
      "3    0\n",
      "Name: y, dtype: int64\n",
      "Updated weights after epoch: 5/10:\n",
      "[0.20003365 0.20011383 0.09997863]\n",
      "####################\n",
      "for epoch >> 5\n",
      "predicted value after farward pass [0 1 1 1]\n",
      "Error: \n",
      " 0    0\n",
      "1    0\n",
      "2    0\n",
      "3    0\n",
      "Name: y, dtype: int64\n",
      "Updated weights after epoch: 6/10:\n",
      "[0.20003365 0.20011383 0.09997863]\n",
      "####################\n",
      "for epoch >> 6\n",
      "predicted value after farward pass [0 1 1 1]\n",
      "Error: \n",
      " 0    0\n",
      "1    0\n",
      "2    0\n",
      "3    0\n",
      "Name: y, dtype: int64\n",
      "Updated weights after epoch: 7/10:\n",
      "[0.20003365 0.20011383 0.09997863]\n",
      "####################\n",
      "for epoch >> 7\n",
      "predicted value after farward pass [0 1 1 1]\n",
      "Error: \n",
      " 0    0\n",
      "1    0\n",
      "2    0\n",
      "3    0\n",
      "Name: y, dtype: int64\n",
      "Updated weights after epoch: 8/10:\n",
      "[0.20003365 0.20011383 0.09997863]\n",
      "####################\n",
      "for epoch >> 8\n",
      "predicted value after farward pass [0 1 1 1]\n",
      "Error: \n",
      " 0    0\n",
      "1    0\n",
      "2    0\n",
      "3    0\n",
      "Name: y, dtype: int64\n",
      "Updated weights after epoch: 9/10:\n",
      "[0.20003365 0.20011383 0.09997863]\n",
      "####################\n",
      "for epoch >> 9\n",
      "predicted value after farward pass [0 1 1 1]\n",
      "Error: \n",
      " 0    0\n",
      "1    0\n",
      "2    0\n",
      "3    0\n",
      "Name: y, dtype: int64\n",
      "Updated weights after epoch: 10/10:\n",
      "[0.20003365 0.20011383 0.09997863]\n",
      "####################\n",
      "Total loss: 0\n"
     ]
    }
   ],
   "source": [
    "X,y = prepare_data(df_OR)\n",
    "\n",
    "ETA = 0.1\n",
    "EPOCHS = 10\n",
    "\n",
    "model_AND = Perceptron(eta = ETA, epochs = EPOCHS)\n",
    "model_AND.fit(X,y)\n",
    "_ = model_AND.total_loss()"
   ]
  },
  {
   "cell_type": "markdown",
   "id": "e4e8a163",
   "metadata": {},
   "source": [
    "# PLOTS"
   ]
  },
  {
   "cell_type": "code",
   "execution_count": 73,
   "id": "99b7c813",
   "metadata": {},
   "outputs": [],
   "source": [
    "def save_plot(df,model,filename=\"plot.png\",plot_dir=\"plots\"):\n",
    "    def create_base_plot(df):\n",
    "        df.plot(kind=\"scatter\", x=\"x1\", y=\"x2\", c=\"y\", s=100 , cmap = \"coolwarm\")\n",
    "        plt.axhline(y=0, color = \"black\", linestyle = \"--\", linewidth = 1)\n",
    "        plt.axvline(x=0, color = \"black\", linestyle = \"--\", linewidth = 1)\n",
    "        figure = plt.gcf()\n",
    "        figure.set_size_inches(10,8)\n",
    "    \n",
    "    def plot_decision_regions(X,y,classifier,resolusion=0.02):\n",
    "        colors = (\"cyan\",\"lightgreen\")\n",
    "        cmap = ListedColormap(colors)\n",
    "        X = X.values\n",
    "        x1 = X[:,0]\n",
    "        x2 = X[:,1]\n",
    "        x1_min,x1_max = x1.min() - 1 , x1.max() + 1\n",
    "        x2_min,x2_max = x2.min() - 1 , x2.max() + 1\n",
    "        \n",
    "        xx1, xx2 = np.meshgrid(np.arange(x1_min,x1_max,resolusion),\n",
    "                               np.arange(x2_min,x2_max,resolusion))\n",
    "        \n",
    "        y_hat = classifier.predict(np.array([xx1.ravel(),xx2.ravel()]).T)\n",
    "        y_hat = y_hat.reshape(xx1.shape)\n",
    "        \n",
    "        plt.contourf(xx1,xx2,y_hat,alpha=0.3, cmap = cmap)\n",
    "        plt.xlim(xx1.min(), xx1.max())\n",
    "        plt.ylim(xx2.min(), xx2.max())\n",
    "        \n",
    "        plt.plot()\n",
    "    X,y = prepare_data(df)\n",
    "    create_base_plot(df)\n",
    "    plot_decision_regions(X,y,model)\n",
    "    os.makedirs(plot_dir, exist_ok=True)\n",
    "    plot_path = os.path.join(plot_dir,filename)\n",
    "    \n",
    "    plt.savefig(plot_path)"
   ]
  },
  {
   "cell_type": "code",
   "execution_count": 74,
   "id": "7f253385",
   "metadata": {
    "scrolled": false
   },
   "outputs": [
    {
     "data": {
      "image/png": "[encoded data removed]",
      "text/plain": [
       "<Figure size 720x576 with 2 Axes>"
      ]
     },
     "metadata": {
      "needs_background": "light"
     },
     "output_type": "display_data"
    }
   ],
   "source": [
    "save_plot(df_AND,model_AND,filename=\"and.png\")"
   ]
  },
  {
   "cell_type": "code",
   "execution_count": null,
   "id": "8616cfb7",
   "metadata": {},
   "outputs": [],
   "source": []
  }
 ],
 "metadata": {
  "kernelspec": {
   "display_name": "Python 3",
   "language": "python",
   "name": "python3"
  },
  "language_info": {
   "codemirror_mode": {
    "name": "ipython",
    "version": 3
   },
   "file_extension": ".py",
   "mimetype": "text/x-python",
   "name": "python",
   "nbconvert_exporter": "python",
   "pygments_lexer": "ipython3",
   "version": "3.8.8"
  }
 },
 "nbformat": 4,
 "nbformat_minor": 5
}
